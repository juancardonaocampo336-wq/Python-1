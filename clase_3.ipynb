{
  "nbformat": 4,
  "nbformat_minor": 0,
  "metadata": {
    "colab": {
      "provenance": [],
      "authorship_tag": "ABX9TyPNt3jph3o39dV2/h89dckE",
      "include_colab_link": true
    },
    "kernelspec": {
      "name": "python3",
      "display_name": "Python 3"
    },
    "language_info": {
      "name": "python"
    }
  },
  "cells": [
    {
      "cell_type": "markdown",
      "metadata": {
        "id": "view-in-github",
        "colab_type": "text"
      },
      "source": [
        "<a href=\"https://colab.research.google.com/github/juancardonaocampo336-wq/Python-1/blob/main/clase_3.ipynb\" target=\"_parent\"><img src=\"https://colab.research.google.com/assets/colab-badge.svg\" alt=\"Open In Colab\"/></a>"
      ]
    },
    {
      "cell_type": "code",
      "source": [
        "#\\1) Crea una matriz de 3 x 3 con todos los valores true\n",
        "import numpy as np\n",
        "\n",
        "Matriz = np.random.randint(low = 1, high=20, size=(3,3))\n",
        "matriz < 3\n",
        "\n",
        "print(Matriz)\n",
        "\n",
        "np.random.choice([True, False], size=(3, 3))\n"
      ],
      "metadata": {
        "colab": {
          "base_uri": "https://localhost:8080/"
        },
        "id": "iNq1gm0iZKeR",
        "outputId": "aeb4f75e-bad6-45f3-8d00-300c0d3c4513"
      },
      "execution_count": null,
      "outputs": [
        {
          "output_type": "stream",
          "name": "stdout",
          "text": [
            "[[10  6 11]\n",
            " [ 2 10  7]\n",
            " [14  4 18]]\n"
          ]
        },
        {
          "output_type": "execute_result",
          "data": {
            "text/plain": [
              "array([[ True, False, False],\n",
              "       [ True,  True,  True],\n",
              "       [ True, False,  True]])"
            ]
          },
          "metadata": {},
          "execution_count": 20
        }
      ]
    },
    {
      "cell_type": "code",
      "source": [
        "#Reemplace todos los numeros impares por -1\n",
        "\n",
        "arr = np.array([0, 1, 2, 3, 4, 5, 6, 7, 8, 9])\n",
        "\n",
        "arr[arr % 2 != 0] = -1\n",
        "\n",
        "print(arr)"
      ],
      "metadata": {
        "colab": {
          "base_uri": "https://localhost:8080/"
        },
        "id": "9IPltZAacL_I",
        "outputId": "08b084f2-457b-402a-c834-8489e3e780e1"
      },
      "execution_count": null,
      "outputs": [
        {
          "output_type": "stream",
          "name": "stdout",
          "text": [
            "[ 0 -1  2 -1  4 -1  6 -1  8 -1]\n"
          ]
        }
      ]
    },
    {
      "cell_type": "code",
      "source": [
        "#Convertir un array de 1D en uno de 2D con dos filas con la misma cantidad de elementos\n",
        "#Input:\n",
        "\n",
        "arr = np.arange(16)\n",
        "new_arr = arr.reshape(2, 8)\n",
        "print(new_arr)\n",
        "\n",
        "#ayuda: Investigar el metodo reshape  que tienen los arreglos de numpy\n",
        "\n",
        "#La función reshape() de NumPy sirve para cambiar la forma (dimensiones) de un arreglo, sin modificar sus datos."
      ],
      "metadata": {
        "colab": {
          "base_uri": "https://localhost:8080/"
        },
        "id": "1aPxyVI_c_kb",
        "outputId": "d36d8538-4acd-4ac1-ab5f-cf3ef2e75b08"
      },
      "execution_count": null,
      "outputs": [
        {
          "output_type": "stream",
          "name": "stdout",
          "text": [
            "[[ 0  1  2  3  4  5  6  7]\n",
            " [ 8  9 10 11 12 13 14 15]]\n"
          ]
        }
      ]
    },
    {
      "cell_type": "code",
      "source": [
        "#Convierte los vectores fila a y b en un vector columna (Apila verticalmente los vectores a y b)\n",
        "#Input\n",
        "\n",
        "a = np.arange(10).reshape(2,-1)\n",
        "b = np.repeat(1, 10).reshape(2,-1)\n",
        "\n",
        "operación = np.vstack((a, b)).reshape(1,-1)\n",
        "\n",
        "print((a),\"\\n\")\n",
        "print(b)\n",
        "print(\"\\n\")\n",
        "print(operación)\n",
        "#ayuda: investigar las funciones np.vstack , np.hstack\n",
        "\n"
      ],
      "metadata": {
        "colab": {
          "base_uri": "https://localhost:8080/"
        },
        "id": "GwRL1u5edsLm",
        "outputId": "5eda2b3f-53f8-42a1-d209-476fa08c3de5"
      },
      "execution_count": null,
      "outputs": [
        {
          "output_type": "stream",
          "name": "stdout",
          "text": [
            "[[0 1 2 3 4]\n",
            " [5 6 7 8 9]] \n",
            "\n",
            "[[1 1 1 1 1]\n",
            " [1 1 1 1 1]]\n",
            "\n",
            "\n",
            "[[0 1 2 3 4 5 6 7 8 9 1 1 1 1 1 1 1 1 1 1]]\n"
          ]
        }
      ]
    },
    {
      "cell_type": "code",
      "source": [
        "#Identifica los elementos iguales en a y b\n",
        "#Input:\n",
        "\n",
        "a = np.array([1,2,3,2,3,4,3,4,5,6])\n",
        "b = np.array([7,2,10,2,7,4,9,4,9,8])\n",
        "\n",
        "#ayuda: investigar la funcion np.where\n",
        "\n",
        "\n",
        "# Encontrar los elementos que son iguales\n",
        "indices = np.where(a == b)\n",
        "\n",
        "# Mostrar los resultados\n",
        "print(\"Índices donde son iguales:\", indices)\n",
        "print(\"Elementos iguales:\", b[indices])\n",
        "\n",
        "\n",
        "#El resultado son posiciones"
      ],
      "metadata": {
        "colab": {
          "base_uri": "https://localhost:8080/"
        },
        "id": "4EYedJYffcLX",
        "outputId": "bf2824c2-bb57-48fd-9461-c352511700c5"
      },
      "execution_count": null,
      "outputs": [
        {
          "output_type": "stream",
          "name": "stdout",
          "text": [
            "Índices donde son iguales: (array([1, 3, 5, 7]),)\n",
            "Elementos iguales: [2 2 4 4]\n"
          ]
        }
      ]
    },
    {
      "cell_type": "code",
      "source": [
        "#Intercambiar las columnas 1 y 2 en el array arr\n",
        "arr = np.arange(9).reshape(3,3)\n",
        "arr = np.arange(9).reshape(3,3)\n",
        "\n",
        "\n",
        "# Intercambiar las columnas 1 y 2\n",
        "arr[:, [0, 1]] = arr[:, [1, 0]]\n",
        "\n",
        "arr2 = arr[:: , [1,0,2]]\n",
        "\n",
        "print((arr) ,\"\\n\")\n",
        "print(arr2)"
      ],
      "metadata": {
        "colab": {
          "base_uri": "https://localhost:8080/"
        },
        "id": "PtJinQRDgIKe",
        "outputId": "e1ec815d-4afd-486d-cd73-2e1c48d0c855"
      },
      "execution_count": null,
      "outputs": [
        {
          "output_type": "stream",
          "name": "stdout",
          "text": [
            "[[1 0 2]\n",
            " [4 3 5]\n",
            " [7 6 8]] \n",
            "\n",
            "[[0 1 2]\n",
            " [3 4 5]\n",
            " [6 7 8]]\n"
          ]
        }
      ]
    }
  ]
}