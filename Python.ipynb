{
  "nbformat": 4,
  "nbformat_minor": 0,
  "metadata": {
    "colab": {
      "provenance": [],
      "authorship_tag": "ABX9TyMKjcNXZ3UgCrMsRWOckFbb",
      "include_colab_link": true
    },
    "kernelspec": {
      "name": "python3",
      "display_name": "Python 3"
    },
    "language_info": {
      "name": "python"
    }
  },
  "cells": [
    {
      "cell_type": "markdown",
      "metadata": {
        "id": "view-in-github",
        "colab_type": "text"
      },
      "source": [
        "<a href=\"https://colab.research.google.com/github/juancardonaocampo336-wq/Python-1/blob/main/Python.ipynb\" target=\"_parent\"><img src=\"https://colab.research.google.com/assets/colab-badge.svg\" alt=\"Open In Colab\"/></a>"
      ]
    },
    {
      "cell_type": "code",
      "execution_count": null,
      "metadata": {
        "id": "l6SdoAOOciPE"
      },
      "outputs": [],
      "source": [
        "# Clase 2 (23/10/2025)\n",
        "\n",
        "#Taller práctico\n",
        "\n",
        "\n",
        "#Parte 1\n",
        "#Concatenar cadenas de texto"
      ]
    },
    {
      "cell_type": "code",
      "source": [
        "# INSTRUCCIONES: Construye documentos académicos usando tus datos\n",
        "titulo = \"Análisis Financiero y Sostenibilidad Empresarial\"\n",
        "autor = \"Juan Cardona\"\n",
        "institucion = \"Universidad de Antioquia\"\n",
        "fecha = \"23 de octubre de 2025\"\n",
        "\n",
        "# 1. Construye el encabezado del documento Título, Autor, Institución, Fecha\n",
        "encabezado = (\n",
        "    \"Título: \" + titulo + \"\\n\"\n",
        "    + \"Autor: \" + autor + \"\\n\"\n",
        "    + \"Institución: \" + institucion + \"\\n\"\n",
        "    + \"Fecha: \" + fecha\n",
        ")\n",
        "\n",
        "print(\"=== ENCABEZADO DEL DOCUMENTO ===\")\n",
        "print(encabezado)\n"
      ],
      "metadata": {
        "colab": {
          "base_uri": "https://localhost:8080/"
        },
        "id": "4zf6qTwveOx2",
        "outputId": "87019754-5963-4f20-8531-ea8e8afe0202"
      },
      "execution_count": 2,
      "outputs": [
        {
          "output_type": "stream",
          "name": "stdout",
          "text": [
            "=== ENCABEZADO DEL DOCUMENTO ===\n",
            "Título: Análisis Financiero y Sostenibilidad Empresarial\n",
            "Autor: Juan Cardona\n",
            "Institución: Universidad de Antioquia\n",
            "Fecha: 23 de octubre de 2025\n"
          ]
        }
      ]
    },
    {
      "cell_type": "code",
      "source": [
        "# 2. Construye una bibliografía del documento\n",
        "bibliografia = \"\"\n",
        "bibliografia += \"1. Smith, J. (2020). Machine Learning Fundamentals.\\n\"\n",
        "bibliografia += \"2. García, M. (2021). Data Analysis Techniques.\\n\"\n",
        "bibliografia += \"3. Lee, K. (2023). Python for Research.\\n\"\n",
        "\n",
        "print(\"=== BIBLIOGRAFÍA ===\")\n",
        "print(bibliografia)"
      ],
      "metadata": {
        "colab": {
          "base_uri": "https://localhost:8080/"
        },
        "id": "xS78C-_-fJic",
        "outputId": "41a77baf-24ea-40e1-d930-c1196a662b38"
      },
      "execution_count": 16,
      "outputs": [
        {
          "output_type": "stream",
          "name": "stdout",
          "text": [
            "=== BIBLIOGRAFÍA ===\n",
            "1. Smith, J. (2020). Machine Learning Fundamentals.\n",
            "2. García, M. (2021). Data Analysis Techniques.\n",
            "3. Lee, K. (2023). Python for Research.\n",
            "\n"
          ]
        }
      ]
    },
    {
      "cell_type": "code",
      "source": [
        "# 3. Crea un DOI (10.1000/182.v1) concatenando partes\n",
        "prefijo = \"10.1000\"\n",
        "sufijo = \"182\"\n",
        "version = \"v1\"\n",
        "\n",
        "doi = prefijo + \"/\" + sufijo + \".\" + version\n",
        "\n",
        "print(\"=== DOI DEL DOCUMENTO ===\")\n",
        "print(doi)"
      ],
      "metadata": {
        "colab": {
          "base_uri": "https://localhost:8080/"
        },
        "id": "W8YKNrwRfcns",
        "outputId": "779e1ed0-21df-4f46-dbd0-a1a50f334658"
      },
      "execution_count": 4,
      "outputs": [
        {
          "output_type": "stream",
          "name": "stdout",
          "text": [
            "=== DOI DEL DOCUMENTO ===\n",
            "10.1000/182.v1\n"
          ]
        }
      ]
    },
    {
      "cell_type": "code",
      "source": [],
      "metadata": {
        "id": "SiZJLepEfpLi"
      },
      "execution_count": null,
      "outputs": []
    },
    {
      "cell_type": "code",
      "source": [
        "#Parte 2\n",
        "# INSTRUCCIONES: Crea elementos visuales para interfaz\n",
        "separador = \"-\"\n",
        "encabezado = \"SISTEMA UNIVERSITARIO\"\n",
        "calificacion = \"★\"\n",
        "estrella_vacia= \"☆\"\n",
        "nota = 4.5\n",
        "\n",
        "#********** SISTEMA UNIVERSITARIO **********\n",
        "#Calificación: ★★★★☆ (4.5/5)\n",
        "\n",
        "#Linea decorativa\n",
        "Linea = \"*\" * 10\n",
        "\n",
        "#Encabezado\n",
        "\n",
        "titulo = Linea + \" \" + encabezado + \" \" + Linea\n",
        "print(titulo)\n",
        "\n",
        "# Calificación\n",
        "\n",
        "Estrellas_llenas = int(nota)\n",
        "Estrellas = (calificacion * Estrellas_llenas) + (estrella_vacia * (5 - Estrellas_llenas))\n",
        "\n",
        "print(\"Calificación\", Estrellas, f\"({nota}/5)\")"
      ],
      "metadata": {
        "colab": {
          "base_uri": "https://localhost:8080/"
        },
        "id": "cbjhrw7rfszO",
        "outputId": "941efbdb-c568-4283-c20d-11a1ac50e3e8"
      },
      "execution_count": 15,
      "outputs": [
        {
          "output_type": "stream",
          "name": "stdout",
          "text": [
            "********** SISTEMA UNIVERSITARIO **********\n",
            "Calificación ★★★★☆ (4.5/5)\n"
          ]
        }
      ]
    },
    {
      "cell_type": "code",
      "source": [],
      "metadata": {
        "id": "uVnAm-ppjsNx"
      },
      "execution_count": null,
      "outputs": []
    },
    {
      "cell_type": "code",
      "source": [
        "#Parte 3\n",
        "#Longitud de texto\n",
        "\n",
        "# INSTRUCCIONES: Analiza longitudes de textos universitarios\n",
        "resumen = '''El presente artículo expone los resultados de un estudio orientado al desarrollo de un modelo de machine learning para la predicción del comportamiento de\n",
        "consumo energético en entornos urbanos, utilizando técnicas avanzadas de análisis de datos. Se recopiló un conjunto de más de 500 000 registros provenientes de sensores\n",
        "inteligentes instalados en la red eléctrica de tres ciudades latinoamericanas. Mediante un proceso de limpieza, normalización y transformación de datos, se identificaron\n",
        " patrones relevantes asociados con variables como temperatura ambiental, hora del día y tipo de zona residencial.\n",
        "\n",
        "El análisis exploratorio permitió detectar correlaciones significativas y anomalías de consumo que fueron modeladas mediante algoritmos supervisados, incluyendo Random Forest,\n",
        " XGBoost y redes neuronales profundas (Deep Neural Networks). Los resultados experimentales mostraron que el modelo basado en XGBoost alcanzó la mayor precisión, con un R² de 0.94 y\n",
        "  un MAE promedio de 0.18, superando en un 12% a los métodos tradicionales de regresión lineal.\n",
        "\n",
        "Además, se desarrolló un tablero interactivo de visualización que permite monitorear en tiempo real las predicciones y el rendimiento energético por sector. Se concluye que la\n",
        " integración de técnicas de machine learning con sistemas de monitoreo urbano representa una herramienta estratégica para la optimización del uso de recursos y la planificación energética sostenible'''\n",
        "\n",
        "titulo = \"Predicción del consumo energético urbano mediante técnicas de análisis de datos y machine learning\"\n",
        "nombre_completo = \"María José Rodríguez Hernández\"\n",
        "\n",
        "longitud_resumen = len(resumen)\n",
        "longitud_titulo = len(titulo)\n",
        "Longitud_nombre_completo = len(nombre_completo)\n",
        "\n",
        "print(f\"resumen tiene {longitud_resumen} caracteres.\")\n",
        "print(f\"titulo tiene {longitud_titulo} caracteres.\")\n",
        "print(f\"nombre completo tiene {Longitud_nombre_completo} caracteres.\")\n"
      ],
      "metadata": {
        "id": "f2LYt2dri_Ww",
        "colab": {
          "base_uri": "https://localhost:8080/"
        },
        "outputId": "dea57c29-53e2-48fc-8bd4-f5125973f3f8"
      },
      "execution_count": 20,
      "outputs": [
        {
          "output_type": "stream",
          "name": "stdout",
          "text": [
            "resumen tiene 1438 caracteres.\n",
            "titulo tiene 98 caracteres.\n",
            "nombre completo tiene 30 caracteres.\n"
          ]
        }
      ]
    },
    {
      "cell_type": "code",
      "source": [
        "#Parte 4\n",
        "#Verifica contenido en textos académicos\n",
        "# Palabras Clave en el resumen del punto anterior: Análisis de datos, Machine learning, Consumo energético, Modelos predictivos\n",
        "\n",
        "palabras_clave = [\"análisis de datos\", \"machine learning\", \"consumo energético\", \"modelos predictivos\"]\n",
        "# 1. Verifica si cada palabra clave está en el abstract y cuantas veces aparece\n",
        "\n"
      ],
      "metadata": {
        "id": "_jlFksF2o-ht"
      },
      "execution_count": null,
      "outputs": []
    }
  ]
}